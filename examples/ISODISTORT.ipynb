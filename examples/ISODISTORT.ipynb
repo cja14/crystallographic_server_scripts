{
 "cells": [
  {
   "cell_type": "code",
   "execution_count": 1,
   "metadata": {},
   "outputs": [],
   "source": [
    "#Using mode decomposition with ISODISTORT\n",
    "import time\n",
    "import os\n",
    "from selenium import webdriver\n",
    "from selenium.webdriver.support.ui import Select\n",
    "from selenium.webdriver.firefox.options import Options\n",
    "from selenium.common.exceptions import NoSuchElementException"
   ]
  },
  {
   "cell_type": "code",
   "execution_count": 2,
   "metadata": {},
   "outputs": [],
   "source": [
    "HSfile = os.getcwd() + '/Ca3Ti2O7_I4mmm.cif'\n",
    "LSfile = os.getcwd() + '/Ca3Ti2O7_Amam.cif'\n",
    "#Get seed of LS structure\n",
    "LSseed = LSfile.strip(\".cif\")\n",
    "silent = True"
   ]
  },
  {
   "cell_type": "code",
   "execution_count": 3,
   "metadata": {},
   "outputs": [],
   "source": [
    "#Initial options\n",
    "options = Options()\n",
    "options.headless = silent\n",
    "profile = webdriver.FirefoxProfile()\n",
    "profile.set_preference('browser.download.folderList', 2)\n",
    "profile.set_preference('browser.download.manager.showWhenStarting', False)\n",
    "profile.set_preference('browser.download.dir', os.getcwd())\n",
    "profile.set_preference('browser.helperApps.neverAsk.saveToDisk', \\\n",
    "                       'text/plain, text/html, text/csv')\n",
    "driver = webdriver.Firefox(firefox_profile=profile, options=options)\n",
    "driver.implicitly_wait(30)"
   ]
  },
  {
   "cell_type": "code",
   "execution_count": 4,
   "metadata": {},
   "outputs": [],
   "source": [
    "base_url = \"http://stokes.byu.edu/iso/isodistort.php\"\n",
    "driver.get(base_url)\n",
    "driver.find_element_by_name(\"toProcess\").clear()\n",
    "driver.find_element_by_name(\"toProcess\").send_keys(HSfile)\n",
    "driver.find_element_by_css_selector(\"input.btn.btn-primary\").click()"
   ]
  },
  {
   "cell_type": "code",
   "execution_count": 5,
   "metadata": {},
   "outputs": [],
   "source": [
    "basetab = driver.window_handles[0]\n",
    "mode_decomptab = None"
   ]
  },
  {
   "cell_type": "code",
   "execution_count": 6,
   "metadata": {},
   "outputs": [],
   "source": [
    "#Input the LSfile \n",
    "#Switch tabs to the basetab\n",
    "driver.switch_to.window(basetab)\n",
    "driver.find_element_by_name(\"toProcess\").clear()\n",
    "driver.find_element_by_name(\"toProcess\").send_keys(LSfile)\n"
   ]
  },
  {
   "cell_type": "code",
   "execution_count": 7,
   "metadata": {},
   "outputs": [],
   "source": [
    "driver.find_element_by_xpath('//FORM[@ACTION=\"isodistortuploadfile.php\"]/'\\\n",
    "                                +'h3/INPUT[@CLASS=\"btn btn-primary\"]').click()"
   ]
  },
  {
   "cell_type": "code",
   "execution_count": 8,
   "metadata": {},
   "outputs": [],
   "source": [
    "#Switch tabs\n",
    "mode_decom_paramtab = driver.window_handles[-1]\n",
    "driver.switch_to.window(mode_decom_paramtab)j"
   ]
  },
  {
   "cell_type": "code",
   "execution_count": 9,
   "metadata": {},
   "outputs": [],
   "source": [
    "#Select options\n",
    "#Part 1 - basis selection options\n",
    "basis_options = Select(driver.find_element_by_name(\"basisselect\")).options\n",
    "basis_options[1].click()"
   ]
  },
  {
   "cell_type": "code",
   "execution_count": 10,
   "metadata": {},
   "outputs": [],
   "source": [
    "#Part 2 \n",
    "#Do nothing if defaults\n",
    "specify_origin = True\n",
    "origin = [0, 0, 0]\n",
    "if origin != [0, 0, 0]:\n",
    "    driver.find_element_by_xpath('//INPUT[@NAME=\"chooseorigin\" and @VALUE=\"true\"]').click()\n",
    "    for i, orig in enumerate(origin):\n",
    "        driver.find_element_by_name(\"origin\" + str(i+1)).clear()\n",
    "        driver.find_element_by_name(\"origin\" + str(i+1)).send_keys\\\n",
    "        (str(origin[i]))\n"
   ]
  },
  {
   "cell_type": "code",
   "execution_count": 11,
   "metadata": {},
   "outputs": [],
   "source": [
    "#Part 3 - Wickoff site-matching\n",
    "robust = False\n",
    "robust_val = 1\n",
    "if robust:\n",
    "    driver.find_element_by_xpath('//INPUT[@NAME=\"trynearest\" and ' + \\\n",
    "                '@VALUE=\"false\"]').click()\n",
    "    driver.find_element_by_name(\"dmax\").clear()\n",
    "    driver.find_element_by_name(\"dmax\").send_keys(str(robust_val))\n",
    "    \n",
    "    "
   ]
  },
  {
   "cell_type": "code",
   "execution_count": 12,
   "metadata": {},
   "outputs": [],
   "source": [
    "#Submit\n",
    "driver.find_element_by_css_selector(\"input.btn.btn-primary\").click()"
   ]
  },
  {
   "cell_type": "code",
   "execution_count": 13,
   "metadata": {},
   "outputs": [],
   "source": [
    "#Saving info\n",
    "saveCif = False\n",
    "saveModeDetails = True\n",
    "\n",
    "\n",
    "#Get details of modes\n",
    "#Switch tab\n",
    "driver.switch_to.window(driver.window_handles[-1])\n",
    "time.sleep(3)\n",
    "\n",
    "\n",
    "\n"
   ]
  },
  {
   "cell_type": "code",
   "execution_count": 16,
   "metadata": {},
   "outputs": [
    {
     "data": {
      "text/plain": [
       "'<html lang=\"en\"><head>\\n<meta charset=\"utf-8\">\\n<title>ISODISTORT: modes details</title>\\n<meta name=\"viewport\" content=\"width=device-width, initial-scale=1.0\">\\n<meta name=\"description\" content=\"\">\\n<meta name=\"author\" content=\"\">\\n<link rel=\"stylesheet\" href=\"bootstrap.css\">\\n<link rel=\"stylesheet\" href=\"docs.css\">\\n<style>\\n  body {\\n\\tpadding-top: 0px;\\n  }\\n  div.pad {\\n\\tpadding-right: 50px;\\n\\tpadding-left: 50px;\\n  }\\n</style>\\n</head>\\n<body>\\n<div class=\"navbar navbar-static-top\">\\n  <div class=\"navbar-inner\">\\n     <div class=\"container\">\\n       <a class=\"btn btn-navbar\" data-toggle=\"collapse\" data-target=\".nav-collapse\">\\n         <span class=\"icon-bar\"></span>\\n         <span class=\"icon-bar\"></span>\\n\\t <span class=\"icon-bar\"></span>\\n       </a>\\n       <a class=\"brand\" href=\"isodistort.php\">ISODISTORT</a>\\n      <div class=\"nav-collapse\">\\n        <ul class=\"nav\">\\n         <li><a href=\"isotropy.php\">SUITE</a></li>\\n                   <li><a href=\"isodistorthelp.php\" target=\"_blank\">HELP</a></li>\\n\\t         </ul>\\n      </div>\\n    </div>\\n  </div>\\n</div>\\n<div class=\"pad\">\\n<h1>ISODISTORT: modes details</h1><p>\\n</p><pre><b>Parent structure (139 I4/mmm)</b>\\na=3.83650, b=3.83650, c=19.40081, alpha=90.00000, beta=90.00000, gamma=90.00000\\n<b>atom site    x        y        z         occ  </b>\\nO1   2a    0.00000  0.00000   0.00000  1.00000\\nO2   4e    0.00000  0.00000  -0.20014  1.00000\\nO3   8g    0.00000  0.50000   0.40115  1.00000\\nCa1  2b    0.00000  0.00000   0.50000  1.00000\\nCa2  4e    0.00000  0.00000  -0.31494  1.00000\\nTi1  4e    0.00000  0.00000  -0.10091  1.00000\\n \\n<b>Subgroup details</b>\\n63 Cmcm, basis={(0,0,1),(1,1,0),(-1,1,0)}, origin=(0,1/2,0), s=2, i=4\\n \\n<b>Undistorted superstructure </b>\\na=19.40081, b=5.42563, c=5.42563, alpha=90.00000, beta=90.00000, gamma=90.00000\\n<b>atom site    x        y        z        occ     displ </b>\\nO1   4c    0.00000  0.25000  0.25000  1.00000  0.00000  \\nO2   8g    0.79986  0.25000  0.25000  1.00000  0.00000  \\nO3   8e    0.40115  0.00000  0.00000  1.00000  0.00000  \\nO4   8e    0.09885  0.00000  0.00000  1.00000  0.00000  \\nCa1  4c    0.00000  0.75000  0.25000  1.00000  0.00000  \\nCa2  8g    0.68506  0.25000  0.25000  1.00000  0.00000  \\nTi1  8g    0.89909  0.25000  0.25000  1.00000  0.00000  \\n \\n<b>Distorted superstructure </b>\\na=19.13346, b=5.47835, c=5.39863, alpha=90.00000, beta=90.00000, gamma=90.00000\\n<b>atom site    x        y        z        occ     displ </b>\\nO1   4c    0.00000  0.16880  0.25000  1.00000  0.44484  \\nO2   8g    0.80112  0.32023  0.25000  1.00000  0.38550  \\nO3   8e    0.41668  0.00000  0.00000  1.00000  0.29714  \\nO4   8e    0.11495  0.00000  0.00000  1.00000  0.30805  \\nCa1  4c    0.00000  0.74046  0.25000  1.00000  0.05226  \\nCa2  8g    0.68651  0.23534  0.25000  1.00000  0.08497  \\nTi1  8g    0.89967  0.24685  0.25000  1.00000  0.02052  \\n \\n<b>Displacive mode definitions</b>\\n \\n<b>atom    x        y        z        dx      dy      dz   </b>\\nI4/mmm[0,0,0]GM1+(a)[O2:e:dsp]A1(a) normfactor = 0.02577\\nO2    0.79986  0.25000  0.25000  1.0000  0.0000  0.0000 \\n \\nI4/mmm[0,0,0]GM1+(a)[O3:g:dsp]A1(a) normfactor = 0.01822\\nO3    0.40115  0.00000  0.00000  1.0000  0.0000  0.0000 \\nO4    0.09885  0.00000  0.00000 -1.0000  0.0000  0.0000 \\n \\nI4/mmm[0,0,0]GM1+(a)[Ca2:e:dsp]A1(a) normfactor = 0.02577\\nCa2   0.68506  0.25000  0.25000  1.0000  0.0000  0.0000 \\n \\nI4/mmm[0,0,0]GM1+(a)[Ti1:e:dsp]A1(a) normfactor = 0.02577\\nTi1   0.89909  0.25000  0.25000  1.0000  0.0000  0.0000 \\n \\nI4/mmm[1/2,1/2,0]X3-(0;a)[O1:a:dsp]Eu(a) normfactor = 0.13033\\nO1    0.00000  0.25000  0.25000  0.0000 -1.0000  0.0000 \\n \\nI4/mmm[1/2,1/2,0]X3-(0;a)[O2:e:dsp]E(a) normfactor = 0.09216\\nO2    0.79986  0.25000  0.25000  0.0000 -1.0000  0.0000 \\n \\nI4/mmm[1/2,1/2,0]X3-(0;a)[O3:g:dsp]A1(a) normfactor = 0.01822\\nO3    0.40115  0.00000  0.00000 -1.0000  0.0000  0.0000 \\nO4    0.09885  0.00000  0.00000 -1.0000  0.0000  0.0000 \\n \\nI4/mmm[1/2,1/2,0]X3-(0;a)[Ca1:b:dsp]Eu(a) normfactor = 0.13033\\nCa1   0.00000  0.75000  0.25000  0.0000 -1.0000  0.0000 \\n \\nI4/mmm[1/2,1/2,0]X3-(0;a)[Ca2:e:dsp]E(a) normfactor = 0.09216\\nCa2   0.68506  0.25000  0.25000  0.0000 -1.0000  0.0000 \\n \\nI4/mmm[1/2,1/2,0]X3-(0;a)[Ti1:e:dsp]E(a) normfactor = 0.09216\\nTi1   0.89909  0.25000  0.25000  0.0000 -1.0000  0.0000 \\n \\n<b>Displacive mode amplitudes</b>\\n \\n<b>mode                              As        Ap       dmax</b>\\n[0,0,0]GM1+[O2:e:dsp]A1(a)       0.04889   0.03457  0.02445\\n[0,0,0]GM1+[O3:g:dsp]A1(a)      -0.01564  -0.01106  0.00553\\n[0,0,0]GM1+[Ca2:e:dsp]A1(a)      0.05626   0.03978  0.02813\\n[0,0,0]GM1+[Ti1:e:dsp]A1(a)      0.02250   0.01591  0.01125\\n[0,0,0]GM1+  all                 0.07941  0.05615\\n \\n[1/2,1/2,0]X3-[O1:a:dsp]Eu(a)    0.62305   0.44056  0.44056\\n[1/2,1/2,0]X3-[O2:e:dsp]E(a)    -0.76208  -0.53887  0.38104\\n[1/2,1/2,0]X3-[O3:g:dsp]A1(a)   -0.86783  -0.61365  0.30682\\n[1/2,1/2,0]X3-[Ca1:b:dsp]Eu(a)   0.07320   0.05176  0.05176\\n[1/2,1/2,0]X3-[Ca2:e:dsp]E(a)    0.15908   0.11249  0.07954\\n[1/2,1/2,0]X3-[Ti1:e:dsp]E(a)    0.03418   0.02417  0.01709\\n[1/2,1/2,0]X3-  all              1.32436  0.93646\\n \\nOverall                          1.32673  0.93814\\n \\n<b>Parent-cell strain mode definitions</b>\\n \\n<b>    e1      e2      e3      e4      e5      e6</b>\\nI4/mmm[0,0,0]GM1+(a)strain_1(a) normfactor = 0.70711\\n  1.0000  1.0000  0.0000  0.0000  0.0000  0.0000\\nI4/mmm[0,0,0]GM1+(a)strain_2(a) normfactor = 1.00000\\n  0.0000  0.0000  1.0000  0.0000  0.0000  0.0000\\nI4/mmm[0,0,0]GM4+(a)strain(a) normfactor = 1.41421\\n  0.0000  0.0000  0.0000  0.0000  0.0000  1.0000\\n \\n<b>Parent-cell strain mode amplitudes</b>\\n \\n<b>mode                    amplitude</b>\\n[0,0,0]GM1+strain_1(a)  0.00335\\n[0,0,0]GM1+strain_2(a)  -0.01378\\n[0,0,0]GM4+strain(a)    0.01039\\n</pre>\\n</div>\\n<script src=\"jquery-1.7.2.js\"></script>\\n<script src=\"bootstrap.js\"></script>\\n\\n\\n</body></html>'"
      ]
     },
     "execution_count": 16,
     "metadata": {},
     "output_type": "execute_result"
    }
   ],
   "source": [
    "driver.page_source"
   ]
  },
  {
   "cell_type": "code",
   "execution_count": null,
   "metadata": {},
   "outputs": [],
   "source": []
  }
 ],
 "metadata": {
  "kernelspec": {
   "display_name": "Python 3",
   "language": "python",
   "name": "python3"
  },
  "language_info": {
   "codemirror_mode": {
    "name": "ipython",
    "version": 3
   },
   "file_extension": ".py",
   "mimetype": "text/x-python",
   "name": "python",
   "nbconvert_exporter": "python",
   "pygments_lexer": "ipython3",
   "version": "3.7.6"
  }
 },
 "nbformat": 4,
 "nbformat_minor": 4
}
