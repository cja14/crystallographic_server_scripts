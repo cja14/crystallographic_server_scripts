{
 "cells": [
  {
   "cell_type": "code",
   "execution_count": 1,
   "metadata": {},
   "outputs": [],
   "source": [
    "#ISODISTORT exercise\n",
    "import os\n",
    "from isodistortfile import isodistort"
   ]
  },
  {
   "cell_type": "code",
   "execution_count": 2,
   "metadata": {},
   "outputs": [],
   "source": [
    "HSfile = os.getcwd() + '/Ca3Ti2O7_I4mmm.cif'"
   ]
  },
  {
   "cell_type": "code",
   "execution_count": 3,
   "metadata": {},
   "outputs": [],
   "source": [
    "iso = isodistort(HSfile, silent=False)"
   ]
  },
  {
   "cell_type": "code",
   "execution_count": 4,
   "metadata": {},
   "outputs": [],
   "source": [
    "irreps = ['X2+', 'X3-']\n",
    "iso.choose_by_irreps(irreps)"
   ]
  },
  {
   "cell_type": "code",
   "execution_count": 5,
   "metadata": {},
   "outputs": [
    {
     "name": "stdout",
     "output_type": "stream",
     "text": [
      "0\t    1    36 * P3(1)P3(1) (0;a|0;b)  36 Cmc2_1, basis={(0,0,-1),(-1,-1,0),(-1,1,0)}, origin=(1/4,1/4,-1/2), s=2, i=8, k-active= (1/2,1/2,1);(1/2,1/2,1)\n",
      "1\t    2    62 * P3(1)P3(2) (0;a|b;0)  62 Pnma, basis={(1,1,0),(0,0,1),(1,-1,0)}, origin=(1/4,1/4,1/4), s=4, i=8, k-active= (1/2,1/2,1);(1/2,1/2,0)\n",
      "2\t    3    26 * C1(1)P3(1) (a;b|0;c)  26 Pmc2_1, basis={(0,0,1),(1,1,0),(-1,1,0)}, origin=(1/4,1/4,0), s=4, i=16, k-active= (1/2,1/2,0),(1/2,1/2,1);(1/2,1/2,1)\n",
      "3\t    4    38 * P1(1)P1(1) (a;a|b;b)  38 Amm2, basis={(0,0,-1),(0,-2,0),(-2,0,0)}, origin=(0,0,0), s=4, i=16, k-active= (1/2,1/2,0),(1/2,1/2,1);(1/2,1/2,0),(1/2,1/2,1)\n",
      "4\t    5    31 * P3(1)C1(1) (0;a|b;c)  31 Pmn2_1, basis={(0,0,1),(1,1,0),(-1,1,0)}, origin=(0,0,0), s=4, i=16, k-active= (1/2,1/2,1);(1/2,1/2,0),(1/2,1/2,1)\n",
      "5\t    6     6 * C1(1)C1(1) (a;b|c;d)   6 Pm, basis={(-1,1,0),(0,0,1),(1,1,0)}, origin=(0,0,0), s=4, i=32, k-active= (1/2,1/2,0),(1/2,1/2,1);(1/2,1/2,0),(1/2,1/2,1)\n",
      "None\n"
     ]
    }
   ],
   "source": [
    "print(iso.view_space_groups())\n",
    "iso.select_space_group(36)"
   ]
  },
  {
   "cell_type": "code",
   "execution_count": 6,
   "metadata": {},
   "outputs": [
    {
     "name": "stdout",
     "output_type": "stream",
     "text": [
      "{'X2+': ['[O3:g:dsp]B2(a)', '[O3:g:dsp]B1(a)'], 'X3-': ['[O1:a:dsp]Eu(a)', '[O2:e:dsp]E(a)', '[O3:g:dsp]A1(a)', '[Ca1:b:dsp]Eu(a)', '[Ca2:e:dsp]E(a)', '[Ti1:e:dsp]E(a)'], 'GM1+': ['[O2:e:dsp]A1(a)', '[O3:g:dsp]A1(a)', '[Ca2:e:dsp]A1(a)', '[Ti1:e:dsp]A1(a)', 'strain_1(a)', 'strain_2(a)'], 'GM4+': ['strain(a)'], 'GM5-': ['[O1:a:dsp]Eu(a)', '[O2:e:dsp]E(a)', '[O3:g:dsp]B2(a)', '[O3:g:dsp]B1(a)', '[Ca1:b:dsp]Eu(a)', '[Ca2:e:dsp]E(a)', '[Ti1:e:dsp]E(a)']}\n"
     ]
    }
   ],
   "source": [
    "print(iso.view_modes())"
   ]
  },
  {
   "cell_type": "code",
   "execution_count": 7,
   "metadata": {},
   "outputs": [],
   "source": [
    "amplitudes = {'X2+': [0.5, 0],\n",
    "            'X3-': [0.1, 0.2, 0.4, 0.05, 0, 0],\n",
    "            'GM4+': [0.3]}"
   ]
  },
  {
   "cell_type": "code",
   "execution_count": 8,
   "metadata": {},
   "outputs": [],
   "source": [
    "outputfile = 'Ca3Ti2O7_A21am_2.cif'"
   ]
  },
  {
   "cell_type": "code",
   "execution_count": 9,
   "metadata": {},
   "outputs": [],
   "source": [
    "iso.set_amplitudes(outputfile, amplitudes)"
   ]
  },
  {
   "cell_type": "code",
   "execution_count": 10,
   "metadata": {},
   "outputs": [],
   "source": []
  },
  {
   "cell_type": "code",
   "execution_count": null,
   "metadata": {},
   "outputs": [],
   "source": []
  }
 ],
 "metadata": {
  "kernelspec": {
   "display_name": "Python 3",
   "language": "python",
   "name": "python3"
  },
  "language_info": {
   "codemirror_mode": {
    "name": "ipython",
    "version": 3
   },
   "file_extension": ".py",
   "mimetype": "text/x-python",
   "name": "python",
   "nbconvert_exporter": "python",
   "pygments_lexer": "ipython3",
   "version": "3.7.6"
  }
 },
 "nbformat": 4,
 "nbformat_minor": 4
}
